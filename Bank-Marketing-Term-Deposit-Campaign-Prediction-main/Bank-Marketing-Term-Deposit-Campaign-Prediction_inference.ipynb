{
 "cells": [
  {
   "cell_type": "code",
   "execution_count": 8,
   "metadata": {},
   "outputs": [],
   "source": [
    "import pandas as pd\n",
    "\n",
    "# Load and Dump Models\n",
    "from joblib import load, dump"
   ]
  },
  {
   "cell_type": "markdown",
   "metadata": {},
   "source": [
    "**Model Inference**"
   ]
  },
  {
   "cell_type": "code",
   "execution_count": 9,
   "metadata": {},
   "outputs": [],
   "source": [
    "# Load the pipeline\n",
    "loaded_pipeline = load('deployment/model_pipeline.pkl')"
   ]
  },
  {
   "cell_type": "code",
   "execution_count": 16,
   "metadata": {},
   "outputs": [],
   "source": [
    "def decode_y(y):\n",
    "    if y == 1:\n",
    "        return \"Yes\"\n",
    "    elif y == 0:\n",
    "        return \"No\"\n",
    "    else:\n",
    "        return \"Unknown\""
   ]
  },
  {
   "cell_type": "code",
   "execution_count": 15,
   "metadata": {},
   "outputs": [],
   "source": [
    "# Sample data for one row\n",
    "data = {\n",
    "    'age': 25,\n",
    "    'job': 'management',\n",
    "    'marital': 'single',\n",
    "    'education': 'primary',\n",
    "    'default': 'yes',\n",
    "    'balance': 1000,\n",
    "    'housing': 'yes',\n",
    "    'loan': 'yes',\n",
    "    'contact': 'cellular',\n",
    "    'day': 1,\n",
    "    'month': 'jan',\n",
    "    'duration': 50,\n",
    "    'campaign': 1,\n",
    "    'pdays': -1,\n",
    "    'previous': 0,\n",
    "    'poutcome': 'unknown'\n",
    "}\n",
    "sample = pd.DataFrame(data, index=[0])"
   ]
  },
  {
   "cell_type": "code",
   "execution_count": 12,
   "metadata": {},
   "outputs": [],
   "source": [
    "# Make a prediction\n",
    "prediction = loaded_pipeline.predict(sample)"
   ]
  },
  {
   "cell_type": "code",
   "execution_count": 18,
   "metadata": {},
   "outputs": [
    {
     "name": "stdout",
     "output_type": "stream",
     "text": [
      "Prediction: No\n"
     ]
    }
   ],
   "source": [
    "print(\"Prediction:\", decode_y(prediction)) "
   ]
  },
  {
   "cell_type": "markdown",
   "metadata": {},
   "source": [
    "The above code snippet demonstrates how to load a trained model pipeline and use it to make predictions on new data. It first loads the saved pipeline using the `load` function from `joblib`. The `decode_y` function is used to convert the predicted binary values (1 or 0) into more meaningful labels (\"Yes\" or \"No\"). Next, sample data for a single row is created, representing a potential customer's information. This data is then converted into a DataFrame and used to make a prediction using the loaded pipeline. Finally, the prediction result is decoded using the `decode_y` function to provide a more human-readable output. This process showcases the practical application of a trained machine learning model in making predictions based on new data."
   ]
  }
 ],
 "metadata": {
  "kernelspec": {
   "display_name": "Python 3",
   "language": "python",
   "name": "python3"
  },
  "language_info": {
   "codemirror_mode": {
    "name": "ipython",
    "version": 3
   },
   "file_extension": ".py",
   "mimetype": "text/x-python",
   "name": "python",
   "nbconvert_exporter": "python",
   "pygments_lexer": "ipython3",
   "version": "3.10.7"
  }
 },
 "nbformat": 4,
 "nbformat_minor": 2
}
